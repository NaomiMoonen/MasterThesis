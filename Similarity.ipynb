{
 "cells": [
  {
   "cell_type": "code",
   "execution_count": 14,
   "metadata": {},
   "outputs": [],
   "source": [
    "import pandas as pd\n",
    "from spacy.tokenizer import Tokenizer\n",
    "from spacy.lang.en import English\n",
    "import statistics\n",
    "from scipy import spatial, stats\n",
    "import numpy as np\n",
    "from statistics import mean\n",
    "import operator\n",
    "from scipy.stats import ttest_ind\n",
    "from sklearn.linear_model import LinearRegression\n",
    "from sklearn. manifold import MDS\n",
    "import matplotlib.pyplot as plt\n",
    "from matplotlib.pyplot import figure\n",
    "from sklearn.decomposition import PCA\n",
    "import os"
   ]
  },
  {
   "cell_type": "markdown",
   "metadata": {},
   "source": [
    "Read in the meta data an theta matrix in dataframes and reset their indices."
   ]
  },
  {
   "cell_type": "code",
   "execution_count": 12,
   "metadata": {},
   "outputs": [],
   "source": [
    "def find(name, path):\n",
    "    for root, dirs, files in os.walk(path):\n",
    "        if name in files:\n",
    "            return os.path.join(root, name)"
   ]
  },
  {
   "cell_type": "code",
   "execution_count": 15,
   "metadata": {},
   "outputs": [],
   "source": [
    "path = find('meta.csv','C:///')\n",
    "data = pd.read_csv(path)"
   ]
  },
  {
   "cell_type": "code",
   "execution_count": 3,
   "metadata": {},
   "outputs": [],
   "source": [
    "path = find('thetamatrix50.csv', 'C://')\n",
    "theta = pd.read_csv(path)"
   ]
  },
  {
   "cell_type": "code",
   "execution_count": 4,
   "metadata": {},
   "outputs": [],
   "source": [
    "data = data.reset_index(drop=True)"
   ]
  },
  {
   "cell_type": "markdown",
   "metadata": {},
   "source": [
    "Create a dataframe that reports for every pair of targets and acquirers the median topic proportions over all their documents, if the document was before or after the effective date, the similarity between the target and acquirer vector and their industries."
   ]
  },
  {
   "cell_type": "code",
   "execution_count": 5,
   "metadata": {},
   "outputs": [
    {
     "name": "stderr",
     "output_type": "stream",
     "text": [
      "C:\\Users\\20150624\\AppData\\Local\\Continuum\\anaconda3\\lib\\site-packages\\pandas\\core\\frame.py:6211: FutureWarning: Sorting because non-concatenation axis is not aligned. A future version\n",
      "of pandas will change to not sort by default.\n",
      "\n",
      "To accept the future behavior, pass 'sort=False'.\n",
      "\n",
      "To retain the current behavior and silence the warning, pass 'sort=True'.\n",
      "\n",
      "  sort=sort)\n"
     ]
    }
   ],
   "source": [
    "proportions = pd.DataFrame(columns=['Target', 'Acquiror', 'TargetTopics', 'AcquirorTopics', 'Period', 'Similarity'])\n",
    "nlp = English()\n",
    "tokenizer = Tokenizer(nlp.vocab)\n",
    "target_text_length = list()\n",
    "acquirer_text_length = list()\n",
    "before = list()\n",
    "after = list()\n",
    "valid_pair_before = list()\n",
    "valid_pair_after = list()\n",
    "same_industry = list()\n",
    "diff_industry = list()\n",
    "for company in data['companydate'].unique():\n",
    "    target = list(data[data['companydate']==company]['Target.Name'])[0]\n",
    "    acquirer = list(data[data['companydate']==company]['Acquiror.Name'])[0]\n",
    "    target_industry = list(data[data['Target.Name']==target]['Target.Macro.Industry'])[0]\n",
    "    acquiror_industry = list(data[data['Acquiror.Name']==acquirer]['Acquiror.Macro.Industry'])[0]    \n",
    "    year = list(data[data['companydate']==company]['DealYear'])[0]\n",
    "    docyear = list(data[data['companydate']==company]['DocumentYear'])[0]\n",
    "    pair = (target, acquirer)\n",
    "    period =list(data[data['companydate']==company]['period'])[0]\n",
    "    target_topics= list()\n",
    "    acquiror_topics = list()\n",
    "    if (period == 'before') and (pair not in before):\n",
    "        before.append(pair)\n",
    "        indices = data[(data['Target.Name']==target)&(data['Acquiror.Name']==acquirer)&(data['period']=='before')].index\n",
    "        target_indices = list()\n",
    "        acquirer_indices = list()\n",
    "        target_length = 0\n",
    "        acquirer_length = 0\n",
    "        for index in indices:\n",
    "            if data.iloc[index]['companytype'] == 'Target':\n",
    "                target_indices.append(index)\n",
    "            if data.iloc[index]['companytype'] ==  'Acquiror':\n",
    "                acquirer_indices.append(index)\n",
    "        for index in target_indices:\n",
    "            text = data.iloc[index]['clean_text']\n",
    "            tokens = tokenizer(text)\n",
    "            target_length += len(tokens)\n",
    "        for index in acquirer_indices:\n",
    "            text = data.iloc[index]['clean_text']\n",
    "            tokens = tokenizer(text)\n",
    "            acquirer_length += len(tokens)\n",
    "        target_text_length.append(target_length)\n",
    "        acquirer_text_length.append(acquirer_length)\n",
    "        if target_length >=162 and acquirer_length >=162:\n",
    "            valid_pair_before.append(pair)\n",
    "            for column in theta.columns:\n",
    "                if column != 'Unnamed: 0':\n",
    "                    target_topics.append(theta.iloc[target_indices][column].median())\n",
    "                    acquiror_topics.append(theta.iloc[acquirer_indices][column].median())\n",
    "            sum_target_topics=sum(target_topics)\n",
    "            target_topics = [i/sum_target_topics for i in target_topics]\n",
    "            sum_acquiror_topics = sum(acquiror_topics)\n",
    "            acquiror_topics = [i/sum_acquiror_topics for i in acquiror_topics]\n",
    "            similarity = 1/(1+spatial.distance.euclidean(target_topics, acquiror_topics))\n",
    "            if target_industry == acquiror_industry:\n",
    "                same_industry.append(similarity)\n",
    "            if target_industry != acquiror_industry:\n",
    "                diff_industry.append(similarity)\n",
    "            props = pd.DataFrame({'Target':target,'Acquiror':acquirer,'TargetTopics':[target_topics],'AcquirorTopics':[acquiror_topics],'Period':period,\n",
    "                                 'Target industry':target_industry,'Acquirer industry':acquiror_industry,\n",
    "                                 'Similarity':similarity,'Year':int(year), 'DocYear':int(docyear)})\n",
    "            proportions = proportions.append(props)\n",
    "    if (period == 'after') and (pair not in after):\n",
    "        after.append(pair)\n",
    "        indices = data[(data['Target.Name']==target)&(data['Acquiror.Name']==acquirer)&(data['period']=='after')].index\n",
    "        target_indices = list()\n",
    "        acquirer_indices = list()\n",
    "        target_length = 0\n",
    "        acquirer_length = 0\n",
    "        for index in indices:\n",
    "                if data.iloc[index]['companytype'] == 'Target':\n",
    "                    target_indices.append(index)\n",
    "                if data.iloc[index]['companytype'] ==  'Acquiror':\n",
    "                    acquirer_indices.append(index)\n",
    "        for index in target_indices:\n",
    "            text = data.iloc[index]['clean_text']\n",
    "            tokens = tokenizer(text)\n",
    "            target_length += len(tokens)\n",
    "        for index in acquirer_indices:\n",
    "            text = data.iloc[index]['clean_text']\n",
    "            tokens = tokenizer(text)\n",
    "            acquirer_length += len(tokens)\n",
    "        target_text_length.append(target_length)\n",
    "        acquirer_text_length.append(acquirer_length)\n",
    "        if target_length >=162 and acquirer_length >=162:\n",
    "            valid_pair_after.append(pair)\n",
    "            for column in theta.columns:\n",
    "                if column != 'Unnamed: 0':\n",
    "                    target_topics.append(theta.iloc[target_indices][column].median())\n",
    "                    acquiror_topics.append(theta.iloc[acquirer_indices][column].median())\n",
    "            sum_target_topics=sum(target_topics)\n",
    "            target_topics = [i/sum_target_topics for i in target_topics]\n",
    "            sum_acquiror_topics = sum(acquiror_topics)\n",
    "            acquiror_topics = [i/sum_acquiror_topics for i in acquiror_topics]                    \n",
    "            similarity = 1/(1+spatial.distance.euclidean(target_topics, acquiror_topics))\n",
    "            if target_industry == acquiror_industry:\n",
    "                same_industry.append(similarity)\n",
    "            if target_industry != acquiror_industry:\n",
    "                diff_industry.append(similarity)\n",
    "            props = pd.DataFrame({'Target':target,'Acquiror':acquirer,'TargetTopics':[target_topics],'AcquirorTopics':[acquiror_topics],'Period':period,\n",
    "                                 'Target industry':target_industry,'Acquirer industry':acquiror_industry,\n",
    "                                  'Similarity':similarity, 'Year':int(year),'DocYear':int(docyear)})\n",
    "            proportions = proportions.append(props)\n"
   ]
  },
  {
   "cell_type": "markdown",
   "metadata": {},
   "source": [
    "Add text length of targets and acquirers and compute the median length of a company's text."
   ]
  },
  {
   "cell_type": "code",
   "execution_count": 6,
   "metadata": {},
   "outputs": [],
   "source": [
    "text_length = target_text_length+acquirer_text_length"
   ]
  },
  {
   "cell_type": "code",
   "execution_count": 7,
   "metadata": {},
   "outputs": [
    {
     "data": {
      "text/plain": [
       "162.0"
      ]
     },
     "execution_count": 7,
     "metadata": {},
     "output_type": "execute_result"
    }
   ],
   "source": [
    "statistics.median(text_length)"
   ]
  },
  {
   "cell_type": "code",
   "execution_count": 8,
   "metadata": {},
   "outputs": [],
   "source": [
    "proportions = proportions.reset_index(drop=True)"
   ]
  },
  {
   "cell_type": "markdown",
   "metadata": {},
   "source": [
    "Compute the similarity between a target and acquirer by iterating over the rows in the dataframe. Similarity is based on the topic proportions. Also compute the similarity between a target and the mean of all other acquirers and an acquirer and the mean of all other targets. "
   ]
  },
  {
   "cell_type": "code",
   "execution_count": 9,
   "metadata": {},
   "outputs": [],
   "source": [
    "similarities = pd.DataFrame(columns=['Target', 'Acquirer', 'Period', 'Similarity', 'Mean Similarity Other Acquirers', 'Mean Similarity Other Targets'])\n",
    "similarity_highest = 0\n",
    "other_acquirers_higher =0\n",
    "other_targets_higher = 0\n",
    "for index, row in proportions.iterrows():\n",
    "    other_sim_target = list()\n",
    "    other_sim_acquirer = list()\n",
    "    sim = row['Similarity']\n",
    "    period = row['Period']\n",
    "    acquirer_topics = row['AcquirorTopics']\n",
    "    target_topics = row['TargetTopics']\n",
    "    if period == 'before':\n",
    "        for index2, row2 in proportions.iterrows():\n",
    "            if (index != index2) and (row2['Period']=='before'):\n",
    "                at = row2['AcquirorTopics']\n",
    "                tt = row2['TargetTopics']\n",
    "                simt = 1/(1+spatial.distance.euclidean(target_topics, at))\n",
    "                sima = 1/(1+spatial.distance.euclidean(acquirer_topics, tt))\n",
    "                other_sim_target.append(simt)\n",
    "                other_sim_acquirer.append(sima)\n",
    "    if period == 'after':\n",
    "         for index2, row2 in proportions.iterrows():\n",
    "            if (index != index2) and (row2['Period']=='after'):\n",
    "                at = row2['AcquirorTopics']\n",
    "                tt = row2['TargetTopics']\n",
    "                simt = 1/(1+spatial.distance.euclidean(target_topics, at))\n",
    "                sima = 1/(1+spatial.distance.euclidean(acquirer_topics, tt))\n",
    "                other_sim_target.append(simt)\n",
    "                other_sim_acquirer.append(sima)\n",
    "    if (sim >= mean(other_sim_target)) and (sim >= mean(other_sim_acquirer)):\n",
    "        similarity_highest +=1\n",
    "    if mean(other_sim_target) > sim:\n",
    "        other_acquirers_higher +=1\n",
    "    if mean(other_sim_acquirer) > sim:\n",
    "        other_targets_higher +=1\n",
    "    if row['Target industry'] == row['Acquirer industry']:\n",
    "        ind = 'Same'\n",
    "    elif row['Target industry'] != row['Acquirer industry']:\n",
    "        ind = 'Different'\n",
    "    similarity = pd.DataFrame({'Target':row['Target'],'TargetIndustry':row['Target industry'], 'Acquirer': row['Acquiror'], 'AcquirerIndustry':row['Acquirer industry'],\n",
    "                               'Period':row['Period'],'Similarity':sim,'Mean Similarity Other Acquirers':mean(other_sim_target),\n",
    "                              'Mean Similarity Other Targets':mean(other_sim_acquirer), 'Industry':ind}, index=[index])\n",
    "    similarities = similarities.append(similarity)\n"
   ]
  },
  {
   "cell_type": "markdown",
   "metadata": {},
   "source": [
    "Print how often the similarity between a target and acquirer was higher than the target's similarity with the mean of other acquirers and the acquirer's similarity with the mean of other targets."
   ]
  },
  {
   "cell_type": "code",
   "execution_count": 97,
   "metadata": {
    "scrolled": true
   },
   "outputs": [
    {
     "name": "stdout",
     "output_type": "stream",
     "text": [
      "104\n",
      "61\n",
      "74\n"
     ]
    }
   ],
   "source": [
    "similarities\n",
    "print(similarity_highest)\n",
    "print(other_acquirers_higher)\n",
    "print(other_targets_higher)"
   ]
  },
  {
   "cell_type": "markdown",
   "metadata": {},
   "source": [
    "T-test to check if the similarity between companies from the same industry is significantly different from the similarity between companies from different industries."
   ]
  },
  {
   "cell_type": "code",
   "execution_count": 10,
   "metadata": {},
   "outputs": [
    {
     "data": {
      "text/plain": [
       "Ttest_indResult(statistic=0.8196405587843935, pvalue=0.4133683464540976)"
      ]
     },
     "execution_count": 10,
     "metadata": {},
     "output_type": "execute_result"
    }
   ],
   "source": [
    "similarities_same = similarities[similarities['Industry']=='Same']\n",
    "similarities_diff = similarities[similarities['Industry']=='Different']\n",
    "ttest_ind(similarities_same['Similarity'], similarities_diff['Similarity'])"
   ]
  },
  {
   "cell_type": "code",
   "execution_count": 11,
   "metadata": {},
   "outputs": [
    {
     "name": "stdout",
     "output_type": "stream",
     "text": [
      "0.6702331534052856\n",
      "0.6586356219671027\n"
     ]
    }
   ],
   "source": [
    "print(similarities_same['Similarity'].mean())\n",
    "print(similarities_diff['Similarity'].mean())"
   ]
  },
  {
   "cell_type": "code",
   "execution_count": 100,
   "metadata": {},
   "outputs": [],
   "source": [
    "similarities.to_csv('C:/similarities.csv')"
   ]
  },
  {
   "cell_type": "markdown",
   "metadata": {},
   "source": [
    "T-test to check if the similarity between a target and acquirer was significantly different from the mean similarity between a target and all other acquirers. "
   ]
  },
  {
   "cell_type": "code",
   "execution_count": 112,
   "metadata": {},
   "outputs": [
    {
     "data": {
      "text/plain": [
       "Ttest_indResult(statistic=4.6923917661034364, pvalue=3.675206116933575e-06)"
      ]
     },
     "execution_count": 112,
     "metadata": {},
     "output_type": "execute_result"
    }
   ],
   "source": [
    "ttest_ind(similarities['Similarity'], similarities['Mean Similarity Other Acquirers'])"
   ]
  },
  {
   "cell_type": "markdown",
   "metadata": {},
   "source": [
    "T-test to check if the similarity between a target and acquirer was significantly different from the mean similarity between an acquirer and all other targets. "
   ]
  },
  {
   "cell_type": "code",
   "execution_count": 111,
   "metadata": {},
   "outputs": [
    {
     "data": {
      "text/plain": [
       "Ttest_indResult(statistic=4.664803090018925, pvalue=4.176027738222112e-06)"
      ]
     },
     "execution_count": 111,
     "metadata": {},
     "output_type": "execute_result"
    }
   ],
   "source": [
    "ttest_ind(similarities['Similarity'], similarities['Mean Similarity Other Targets'])"
   ]
  },
  {
   "cell_type": "code",
   "execution_count": 109,
   "metadata": {},
   "outputs": [
    {
     "name": "stdout",
     "output_type": "stream",
     "text": [
      "0.664713174499612\n",
      "0.6276231359470769\n",
      "0.627623135947077\n"
     ]
    }
   ],
   "source": [
    "print(similarities['Similarity'].mean())\n",
    "print(similarities['Mean Similarity Other Acquirers'].mean())\n",
    "print(similarities['Mean Similarity Other Targets'].mean())"
   ]
  },
  {
   "cell_type": "markdown",
   "metadata": {},
   "source": [
    "Subsets of data with only the data before or after the effective date. Create a dataframe with only the complete data before and after."
   ]
  },
  {
   "cell_type": "code",
   "execution_count": 113,
   "metadata": {},
   "outputs": [],
   "source": [
    "similarities_before = similarities[similarities['Period']=='before']\n",
    "similarities_after = similarities[similarities['Period']=='after']"
   ]
  },
  {
   "cell_type": "code",
   "execution_count": 114,
   "metadata": {},
   "outputs": [],
   "source": [
    "similarities_time = pd.DataFrame(columns=['Target', 'Acquirer', 'Before', 'After'])\n",
    "for index, row in similarities_before.iterrows():\n",
    "    target = row['Target']\n",
    "    acquirer = row['Acquirer']\n",
    "    before = row['Similarity']\n",
    "    if len(similarities_after[(similarities_after['Target']==target) & (similarities_after['Acquirer']==acquirer)])==1:\n",
    "        after = similarities_after[(similarities_after['Target']==target) & (similarities_after['Acquirer']==acquirer)]['Similarity'].values[0]\n",
    "        similar = pd.DataFrame({'Target':target, 'Acquirer':acquirer, 'Before':before,'After':after}, index=[index])\n",
    "        similarities_time = similarities_time.append(similar)"
   ]
  },
  {
   "cell_type": "code",
   "execution_count": 115,
   "metadata": {
    "scrolled": true
   },
   "outputs": [
    {
     "data": {
      "text/html": [
       "<div>\n",
       "<style scoped>\n",
       "    .dataframe tbody tr th:only-of-type {\n",
       "        vertical-align: middle;\n",
       "    }\n",
       "\n",
       "    .dataframe tbody tr th {\n",
       "        vertical-align: top;\n",
       "    }\n",
       "\n",
       "    .dataframe thead th {\n",
       "        text-align: right;\n",
       "    }\n",
       "</style>\n",
       "<table border=\"1\" class=\"dataframe\">\n",
       "  <thead>\n",
       "    <tr style=\"text-align: right;\">\n",
       "      <th></th>\n",
       "      <th>Target</th>\n",
       "      <th>Acquirer</th>\n",
       "      <th>Before</th>\n",
       "      <th>After</th>\n",
       "    </tr>\n",
       "  </thead>\n",
       "  <tbody>\n",
       "    <tr>\n",
       "      <th>1</th>\n",
       "      <td>Specialty Therapeutic Hldg Inc</td>\n",
       "      <td>Centene Corp</td>\n",
       "      <td>0.718170</td>\n",
       "      <td>0.713517</td>\n",
       "    </tr>\n",
       "    <tr>\n",
       "      <th>3</th>\n",
       "      <td>Integra Partners LLC</td>\n",
       "      <td>Tufts Assocd Health Plans Inc</td>\n",
       "      <td>0.757854</td>\n",
       "      <td>0.636774</td>\n",
       "    </tr>\n",
       "    <tr>\n",
       "      <th>4</th>\n",
       "      <td>Healthagen LLC</td>\n",
       "      <td>Aetna Inc</td>\n",
       "      <td>0.710338</td>\n",
       "      <td>0.629394</td>\n",
       "    </tr>\n",
       "    <tr>\n",
       "      <th>5</th>\n",
       "      <td>Aetna Inc-Missouri Medicaid</td>\n",
       "      <td>WellCare Health Plans Inc</td>\n",
       "      <td>0.756793</td>\n",
       "      <td>0.874802</td>\n",
       "    </tr>\n",
       "    <tr>\n",
       "      <th>6</th>\n",
       "      <td>Coventry Health Care Inc</td>\n",
       "      <td>Aetna Inc</td>\n",
       "      <td>0.635373</td>\n",
       "      <td>0.759007</td>\n",
       "    </tr>\n",
       "    <tr>\n",
       "      <th>8</th>\n",
       "      <td>American Health Network Inc</td>\n",
       "      <td>UnitedHealth Group Inc</td>\n",
       "      <td>0.560581</td>\n",
       "      <td>0.499416</td>\n",
       "    </tr>\n",
       "    <tr>\n",
       "      <th>9</th>\n",
       "      <td>AIG Sigorta AS</td>\n",
       "      <td>GIG</td>\n",
       "      <td>0.800449</td>\n",
       "      <td>0.696382</td>\n",
       "    </tr>\n",
       "    <tr>\n",
       "      <th>12</th>\n",
       "      <td>All Points EAP &amp; Orgal Svcs</td>\n",
       "      <td>AllOne Health Resource Inc</td>\n",
       "      <td>0.873600</td>\n",
       "      <td>0.780150</td>\n",
       "    </tr>\n",
       "    <tr>\n",
       "      <th>13</th>\n",
       "      <td>Amerigroup Virginia Inc</td>\n",
       "      <td>Inova Health System</td>\n",
       "      <td>0.686782</td>\n",
       "      <td>0.589217</td>\n",
       "    </tr>\n",
       "    <tr>\n",
       "      <th>15</th>\n",
       "      <td>Sec Life Ins Co of America</td>\n",
       "      <td>Ameritas Life Insurance Corp</td>\n",
       "      <td>0.770861</td>\n",
       "      <td>0.559292</td>\n",
       "    </tr>\n",
       "    <tr>\n",
       "      <th>17</th>\n",
       "      <td>APS Healthcare Inc</td>\n",
       "      <td>Universal American Corp</td>\n",
       "      <td>0.556352</td>\n",
       "      <td>0.570663</td>\n",
       "    </tr>\n",
       "    <tr>\n",
       "      <th>18</th>\n",
       "      <td>Avalere Health LLC</td>\n",
       "      <td>Inovalon Holdings Inc</td>\n",
       "      <td>0.488770</td>\n",
       "      <td>0.667102</td>\n",
       "    </tr>\n",
       "    <tr>\n",
       "      <th>20</th>\n",
       "      <td>Axa SA-Pension Business</td>\n",
       "      <td>Principal Financial Group Inc</td>\n",
       "      <td>0.542984</td>\n",
       "      <td>0.623267</td>\n",
       "    </tr>\n",
       "    <tr>\n",
       "      <th>21</th>\n",
       "      <td>Bharti AXA General Insurance</td>\n",
       "      <td>AXA SA</td>\n",
       "      <td>0.617842</td>\n",
       "      <td>0.624018</td>\n",
       "    </tr>\n",
       "    <tr>\n",
       "      <th>22</th>\n",
       "      <td>Barbican Dental Care</td>\n",
       "      <td>BUPA</td>\n",
       "      <td>0.508648</td>\n",
       "      <td>0.508622</td>\n",
       "    </tr>\n",
       "    <tr>\n",
       "      <th>24</th>\n",
       "      <td>Lovelace Health Plan</td>\n",
       "      <td>Blue Cross &amp; Blue Shield of NM</td>\n",
       "      <td>0.671375</td>\n",
       "      <td>0.668533</td>\n",
       "    </tr>\n",
       "    <tr>\n",
       "      <th>27</th>\n",
       "      <td>Bentall Kennedy LP</td>\n",
       "      <td>Sun Life Financial Inc</td>\n",
       "      <td>0.689064</td>\n",
       "      <td>0.516050</td>\n",
       "    </tr>\n",
       "    <tr>\n",
       "      <th>30</th>\n",
       "      <td>Best Doctors Inc</td>\n",
       "      <td>Teladoc Inc</td>\n",
       "      <td>0.598553</td>\n",
       "      <td>0.642079</td>\n",
       "    </tr>\n",
       "    <tr>\n",
       "      <th>32</th>\n",
       "      <td>Block Vision Inc</td>\n",
       "      <td>Superior Vision Services Inc</td>\n",
       "      <td>0.706992</td>\n",
       "      <td>0.800113</td>\n",
       "    </tr>\n",
       "    <tr>\n",
       "      <th>33</th>\n",
       "      <td>BRIT Insurance Ltd</td>\n",
       "      <td>RiverStone Resources LLC</td>\n",
       "      <td>0.711268</td>\n",
       "      <td>0.783374</td>\n",
       "    </tr>\n",
       "    <tr>\n",
       "      <th>35</th>\n",
       "      <td>Innovative Care Ltd-Aged Care</td>\n",
       "      <td>BUPA Australia Health Pty Ltd</td>\n",
       "      <td>0.483643</td>\n",
       "      <td>0.724457</td>\n",
       "    </tr>\n",
       "    <tr>\n",
       "      <th>40</th>\n",
       "      <td>US Medical Management LLC</td>\n",
       "      <td>Centene Corp</td>\n",
       "      <td>0.667456</td>\n",
       "      <td>0.722202</td>\n",
       "    </tr>\n",
       "    <tr>\n",
       "      <th>43</th>\n",
       "      <td>Health Net Inc</td>\n",
       "      <td>Centene Corp</td>\n",
       "      <td>0.676917</td>\n",
       "      <td>0.633020</td>\n",
       "    </tr>\n",
       "    <tr>\n",
       "      <th>46</th>\n",
       "      <td>Omada Health Inc</td>\n",
       "      <td>Cigna Corp</td>\n",
       "      <td>0.675279</td>\n",
       "      <td>0.693527</td>\n",
       "    </tr>\n",
       "    <tr>\n",
       "      <th>48</th>\n",
       "      <td>Concentra Inc</td>\n",
       "      <td>Humana Inc</td>\n",
       "      <td>0.626358</td>\n",
       "      <td>0.752223</td>\n",
       "    </tr>\n",
       "    <tr>\n",
       "      <th>49</th>\n",
       "      <td>NextCare-Urgent Care Med Ctr</td>\n",
       "      <td>Concentra Inc</td>\n",
       "      <td>0.810129</td>\n",
       "      <td>0.823956</td>\n",
       "    </tr>\n",
       "    <tr>\n",
       "      <th>51</th>\n",
       "      <td>Mercy Health Plans Inc</td>\n",
       "      <td>Coventry Health Care Inc</td>\n",
       "      <td>0.664546</td>\n",
       "      <td>0.838511</td>\n",
       "    </tr>\n",
       "    <tr>\n",
       "      <th>53</th>\n",
       "      <td>Travelex Insurance Services</td>\n",
       "      <td>Cover-More Group Ltd</td>\n",
       "      <td>0.836294</td>\n",
       "      <td>0.759572</td>\n",
       "    </tr>\n",
       "    <tr>\n",
       "      <th>54</th>\n",
       "      <td>Cover-More Group Ltd</td>\n",
       "      <td>Zurich Insurance Co Ltd</td>\n",
       "      <td>0.533556</td>\n",
       "      <td>0.500022</td>\n",
       "    </tr>\n",
       "    <tr>\n",
       "      <th>55</th>\n",
       "      <td>DPAS Ltd</td>\n",
       "      <td>Wesleyan Assurance Society</td>\n",
       "      <td>0.578812</td>\n",
       "      <td>0.576627</td>\n",
       "    </tr>\n",
       "    <tr>\n",
       "      <th>58</th>\n",
       "      <td>Enablecomp LLC</td>\n",
       "      <td>Primus Capital Fund</td>\n",
       "      <td>0.637912</td>\n",
       "      <td>0.682903</td>\n",
       "    </tr>\n",
       "    <tr>\n",
       "      <th>59</th>\n",
       "      <td>Entitle Direct Group Inc</td>\n",
       "      <td>PartnerRe Ltd</td>\n",
       "      <td>0.596792</td>\n",
       "      <td>0.553881</td>\n",
       "    </tr>\n",
       "    <tr>\n",
       "      <th>61</th>\n",
       "      <td>PartnerRe Ltd</td>\n",
       "      <td>Exor Spa</td>\n",
       "      <td>0.656106</td>\n",
       "      <td>0.603818</td>\n",
       "    </tr>\n",
       "    <tr>\n",
       "      <th>64</th>\n",
       "      <td>The American Worker Plans Inc</td>\n",
       "      <td>Fringe Benefit Group</td>\n",
       "      <td>0.839291</td>\n",
       "      <td>0.944839</td>\n",
       "    </tr>\n",
       "    <tr>\n",
       "      <th>65</th>\n",
       "      <td>First Dental Health</td>\n",
       "      <td>Principal Financial Group Inc</td>\n",
       "      <td>0.536460</td>\n",
       "      <td>0.610272</td>\n",
       "    </tr>\n",
       "    <tr>\n",
       "      <th>68</th>\n",
       "      <td>GloHealth Financial Services</td>\n",
       "      <td>Irish Life Ltd</td>\n",
       "      <td>0.581779</td>\n",
       "      <td>0.600892</td>\n",
       "    </tr>\n",
       "    <tr>\n",
       "      <th>69</th>\n",
       "      <td>health.com.au Pty Ltd</td>\n",
       "      <td>GMHBA Ltd</td>\n",
       "      <td>0.630005</td>\n",
       "      <td>0.627265</td>\n",
       "    </tr>\n",
       "    <tr>\n",
       "      <th>72</th>\n",
       "      <td>Regency Healthcare Group LLC</td>\n",
       "      <td>GTCR LLC</td>\n",
       "      <td>0.522572</td>\n",
       "      <td>0.502985</td>\n",
       "    </tr>\n",
       "    <tr>\n",
       "      <th>73</th>\n",
       "      <td>TrestleTree Inc</td>\n",
       "      <td>Harvard Pilgrim Health Care</td>\n",
       "      <td>0.642801</td>\n",
       "      <td>0.704542</td>\n",
       "    </tr>\n",
       "    <tr>\n",
       "      <th>75</th>\n",
       "      <td>Healix Risk Rating Ltd</td>\n",
       "      <td>Verisk Analytics Inc</td>\n",
       "      <td>0.620580</td>\n",
       "      <td>0.614621</td>\n",
       "    </tr>\n",
       "    <tr>\n",
       "      <th>79</th>\n",
       "      <td>Your Home Advantage Inc</td>\n",
       "      <td>Humana Inc</td>\n",
       "      <td>0.666600</td>\n",
       "      <td>0.583386</td>\n",
       "    </tr>\n",
       "    <tr>\n",
       "      <th>82</th>\n",
       "      <td>SeniorBridge Family Cos Inc</td>\n",
       "      <td>Humana Inc</td>\n",
       "      <td>0.668233</td>\n",
       "      <td>0.608620</td>\n",
       "    </tr>\n",
       "    <tr>\n",
       "      <th>83</th>\n",
       "      <td>Metro Health Networks Inc</td>\n",
       "      <td>Humana Inc</td>\n",
       "      <td>0.666198</td>\n",
       "      <td>0.666007</td>\n",
       "    </tr>\n",
       "    <tr>\n",
       "      <th>87</th>\n",
       "      <td>Leadway Assurance Company Ltd</td>\n",
       "      <td>Swiss Re AG</td>\n",
       "      <td>0.655227</td>\n",
       "      <td>0.617287</td>\n",
       "    </tr>\n",
       "    <tr>\n",
       "      <th>94</th>\n",
       "      <td>Medical Diagnostic Associates</td>\n",
       "      <td>MedRisk Inc</td>\n",
       "      <td>0.860201</td>\n",
       "      <td>0.618408</td>\n",
       "    </tr>\n",
       "    <tr>\n",
       "      <th>96</th>\n",
       "      <td>MedRisk Inc</td>\n",
       "      <td>TA Associates Management LP</td>\n",
       "      <td>0.674821</td>\n",
       "      <td>0.533028</td>\n",
       "    </tr>\n",
       "    <tr>\n",
       "      <th>102</th>\n",
       "      <td>Tower Medical Insurance Ltd</td>\n",
       "      <td>nib holdings ltd</td>\n",
       "      <td>0.574919</td>\n",
       "      <td>0.715584</td>\n",
       "    </tr>\n",
       "    <tr>\n",
       "      <th>103</th>\n",
       "      <td>World Nomads Group Pty Ltd</td>\n",
       "      <td>nib holdings ltd</td>\n",
       "      <td>0.657633</td>\n",
       "      <td>0.571317</td>\n",
       "    </tr>\n",
       "    <tr>\n",
       "      <th>105</th>\n",
       "      <td>ProVita Intl Med Ctr LLC</td>\n",
       "      <td>NMC Health PLC</td>\n",
       "      <td>0.766478</td>\n",
       "      <td>0.698434</td>\n",
       "    </tr>\n",
       "    <tr>\n",
       "      <th>106</th>\n",
       "      <td>New West Physicians PC</td>\n",
       "      <td>UnitedHealth Group Inc</td>\n",
       "      <td>0.558069</td>\n",
       "      <td>0.535753</td>\n",
       "    </tr>\n",
       "    <tr>\n",
       "      <th>110</th>\n",
       "      <td>Resurrection Health Care Corp</td>\n",
       "      <td>Provena Health</td>\n",
       "      <td>0.810156</td>\n",
       "      <td>0.816065</td>\n",
       "    </tr>\n",
       "    <tr>\n",
       "      <th>111</th>\n",
       "      <td>Rocky Mtain Health Plans Inc</td>\n",
       "      <td>United HealthCare Services Inc</td>\n",
       "      <td>0.885963</td>\n",
       "      <td>0.849416</td>\n",
       "    </tr>\n",
       "    <tr>\n",
       "      <th>112</th>\n",
       "      <td>Royal London Gen Ins Co Ltd</td>\n",
       "      <td>Randall &amp; Quilter Invest Hldg</td>\n",
       "      <td>0.730902</td>\n",
       "      <td>0.486868</td>\n",
       "    </tr>\n",
       "    <tr>\n",
       "      <th>113</th>\n",
       "      <td>Transport Health Pty Ltd</td>\n",
       "      <td>Railway &amp; Transport Health Fun</td>\n",
       "      <td>0.773334</td>\n",
       "      <td>0.922026</td>\n",
       "    </tr>\n",
       "    <tr>\n",
       "      <th>114</th>\n",
       "      <td>Tenet Healthcare-Hospitals(5)</td>\n",
       "      <td>Wellstar Health System Inc</td>\n",
       "      <td>0.630316</td>\n",
       "      <td>0.766341</td>\n",
       "    </tr>\n",
       "    <tr>\n",
       "      <th>115</th>\n",
       "      <td>Windsor Health Group Inc</td>\n",
       "      <td>WellCare Health Plans Inc</td>\n",
       "      <td>0.606502</td>\n",
       "      <td>0.590921</td>\n",
       "    </tr>\n",
       "  </tbody>\n",
       "</table>\n",
       "</div>"
      ],
      "text/plain": [
       "                             Target                        Acquirer    Before  \\\n",
       "1    Specialty Therapeutic Hldg Inc                    Centene Corp  0.718170   \n",
       "3              Integra Partners LLC   Tufts Assocd Health Plans Inc  0.757854   \n",
       "4                    Healthagen LLC                       Aetna Inc  0.710338   \n",
       "5       Aetna Inc-Missouri Medicaid       WellCare Health Plans Inc  0.756793   \n",
       "6          Coventry Health Care Inc                       Aetna Inc  0.635373   \n",
       "8       American Health Network Inc          UnitedHealth Group Inc  0.560581   \n",
       "9                    AIG Sigorta AS                             GIG  0.800449   \n",
       "12      All Points EAP & Orgal Svcs      AllOne Health Resource Inc  0.873600   \n",
       "13          Amerigroup Virginia Inc             Inova Health System  0.686782   \n",
       "15       Sec Life Ins Co of America    Ameritas Life Insurance Corp  0.770861   \n",
       "17               APS Healthcare Inc         Universal American Corp  0.556352   \n",
       "18               Avalere Health LLC           Inovalon Holdings Inc  0.488770   \n",
       "20          Axa SA-Pension Business   Principal Financial Group Inc  0.542984   \n",
       "21     Bharti AXA General Insurance                          AXA SA  0.617842   \n",
       "22             Barbican Dental Care                            BUPA  0.508648   \n",
       "24             Lovelace Health Plan  Blue Cross & Blue Shield of NM  0.671375   \n",
       "27               Bentall Kennedy LP          Sun Life Financial Inc  0.689064   \n",
       "30                 Best Doctors Inc                     Teladoc Inc  0.598553   \n",
       "32                 Block Vision Inc    Superior Vision Services Inc  0.706992   \n",
       "33               BRIT Insurance Ltd        RiverStone Resources LLC  0.711268   \n",
       "35    Innovative Care Ltd-Aged Care   BUPA Australia Health Pty Ltd  0.483643   \n",
       "40        US Medical Management LLC                    Centene Corp  0.667456   \n",
       "43                   Health Net Inc                    Centene Corp  0.676917   \n",
       "46                 Omada Health Inc                      Cigna Corp  0.675279   \n",
       "48                    Concentra Inc                      Humana Inc  0.626358   \n",
       "49     NextCare-Urgent Care Med Ctr                   Concentra Inc  0.810129   \n",
       "51           Mercy Health Plans Inc        Coventry Health Care Inc  0.664546   \n",
       "53      Travelex Insurance Services            Cover-More Group Ltd  0.836294   \n",
       "54             Cover-More Group Ltd         Zurich Insurance Co Ltd  0.533556   \n",
       "55                         DPAS Ltd      Wesleyan Assurance Society  0.578812   \n",
       "58                   Enablecomp LLC             Primus Capital Fund  0.637912   \n",
       "59         Entitle Direct Group Inc                   PartnerRe Ltd  0.596792   \n",
       "61                    PartnerRe Ltd                        Exor Spa  0.656106   \n",
       "64    The American Worker Plans Inc            Fringe Benefit Group  0.839291   \n",
       "65              First Dental Health   Principal Financial Group Inc  0.536460   \n",
       "68     GloHealth Financial Services                  Irish Life Ltd  0.581779   \n",
       "69            health.com.au Pty Ltd                       GMHBA Ltd  0.630005   \n",
       "72     Regency Healthcare Group LLC                        GTCR LLC  0.522572   \n",
       "73                  TrestleTree Inc     Harvard Pilgrim Health Care  0.642801   \n",
       "75           Healix Risk Rating Ltd            Verisk Analytics Inc  0.620580   \n",
       "79          Your Home Advantage Inc                      Humana Inc  0.666600   \n",
       "82      SeniorBridge Family Cos Inc                      Humana Inc  0.668233   \n",
       "83        Metro Health Networks Inc                      Humana Inc  0.666198   \n",
       "87    Leadway Assurance Company Ltd                     Swiss Re AG  0.655227   \n",
       "94    Medical Diagnostic Associates                     MedRisk Inc  0.860201   \n",
       "96                      MedRisk Inc     TA Associates Management LP  0.674821   \n",
       "102     Tower Medical Insurance Ltd                nib holdings ltd  0.574919   \n",
       "103      World Nomads Group Pty Ltd                nib holdings ltd  0.657633   \n",
       "105        ProVita Intl Med Ctr LLC                  NMC Health PLC  0.766478   \n",
       "106          New West Physicians PC          UnitedHealth Group Inc  0.558069   \n",
       "110   Resurrection Health Care Corp                  Provena Health  0.810156   \n",
       "111    Rocky Mtain Health Plans Inc  United HealthCare Services Inc  0.885963   \n",
       "112     Royal London Gen Ins Co Ltd   Randall & Quilter Invest Hldg  0.730902   \n",
       "113        Transport Health Pty Ltd  Railway & Transport Health Fun  0.773334   \n",
       "114   Tenet Healthcare-Hospitals(5)      Wellstar Health System Inc  0.630316   \n",
       "115        Windsor Health Group Inc       WellCare Health Plans Inc  0.606502   \n",
       "\n",
       "        After  \n",
       "1    0.713517  \n",
       "3    0.636774  \n",
       "4    0.629394  \n",
       "5    0.874802  \n",
       "6    0.759007  \n",
       "8    0.499416  \n",
       "9    0.696382  \n",
       "12   0.780150  \n",
       "13   0.589217  \n",
       "15   0.559292  \n",
       "17   0.570663  \n",
       "18   0.667102  \n",
       "20   0.623267  \n",
       "21   0.624018  \n",
       "22   0.508622  \n",
       "24   0.668533  \n",
       "27   0.516050  \n",
       "30   0.642079  \n",
       "32   0.800113  \n",
       "33   0.783374  \n",
       "35   0.724457  \n",
       "40   0.722202  \n",
       "43   0.633020  \n",
       "46   0.693527  \n",
       "48   0.752223  \n",
       "49   0.823956  \n",
       "51   0.838511  \n",
       "53   0.759572  \n",
       "54   0.500022  \n",
       "55   0.576627  \n",
       "58   0.682903  \n",
       "59   0.553881  \n",
       "61   0.603818  \n",
       "64   0.944839  \n",
       "65   0.610272  \n",
       "68   0.600892  \n",
       "69   0.627265  \n",
       "72   0.502985  \n",
       "73   0.704542  \n",
       "75   0.614621  \n",
       "79   0.583386  \n",
       "82   0.608620  \n",
       "83   0.666007  \n",
       "87   0.617287  \n",
       "94   0.618408  \n",
       "96   0.533028  \n",
       "102  0.715584  \n",
       "103  0.571317  \n",
       "105  0.698434  \n",
       "106  0.535753  \n",
       "110  0.816065  \n",
       "111  0.849416  \n",
       "112  0.486868  \n",
       "113  0.922026  \n",
       "114  0.766341  \n",
       "115  0.590921  "
      ]
     },
     "execution_count": 115,
     "metadata": {},
     "output_type": "execute_result"
    }
   ],
   "source": [
    "similarities_time"
   ]
  },
  {
   "cell_type": "markdown",
   "metadata": {},
   "source": [
    "T-test to check if the similarity between companies before the effective date differs significantly from the effective date after."
   ]
  },
  {
   "cell_type": "code",
   "execution_count": 116,
   "metadata": {},
   "outputs": [
    {
     "data": {
      "text/plain": [
       "Ttest_indResult(statistic=0.15495107362743127, pvalue=0.8771438538903779)"
      ]
     },
     "execution_count": 116,
     "metadata": {},
     "output_type": "execute_result"
    }
   ],
   "source": [
    "ttest_ind(similarities_time['Before'], similarities_time['After'])"
   ]
  },
  {
   "cell_type": "code",
   "execution_count": 117,
   "metadata": {},
   "outputs": [
    {
     "name": "stdout",
     "output_type": "stream",
     "text": [
      "0.6672408757497253\n",
      "0.6641315898060943\n"
     ]
    }
   ],
   "source": [
    "print(similarities_time['Before'].mean())\n",
    "print(similarities_time['After'].mean())"
   ]
  },
  {
   "cell_type": "code",
   "execution_count": 426,
   "metadata": {},
   "outputs": [],
   "source": [
    "similarities_time.to_csv('C:/similaritiestime.csv')"
   ]
  }
 ],
 "metadata": {
  "kernelspec": {
   "display_name": "Python 3",
   "language": "python",
   "name": "python3"
  },
  "language_info": {
   "codemirror_mode": {
    "name": "ipython",
    "version": 3
   },
   "file_extension": ".py",
   "mimetype": "text/x-python",
   "name": "python",
   "nbconvert_exporter": "python",
   "pygments_lexer": "ipython3",
   "version": "3.7.1"
  }
 },
 "nbformat": 4,
 "nbformat_minor": 2
}
