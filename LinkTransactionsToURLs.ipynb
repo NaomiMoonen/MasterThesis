{
 "cells": [
  {
   "cell_type": "code",
   "execution_count": 2,
   "metadata": {},
   "outputs": [],
   "source": [
    "import os\n",
    "import numpy as np\n",
    "import pandas as pd"
   ]
  },
  {
   "cell_type": "markdown",
   "metadata": {},
   "source": [
    "Read in the deal data and the URLs."
   ]
  },
  {
   "cell_type": "code",
   "execution_count": 1,
   "metadata": {},
   "outputs": [],
   "source": [
    "def find(name, path):\n",
    "    for root, dirs, files in os.walk(path):\n",
    "        if name in files:\n",
    "            return os.path.join(root, name)"
   ]
  },
  {
   "cell_type": "code",
   "execution_count": 3,
   "metadata": {},
   "outputs": [],
   "source": [
    "path = find('dealdata.xlsx','C://')\n",
    "transactions = pd.read_excel(path)"
   ]
  },
  {
   "cell_type": "code",
   "execution_count": 4,
   "metadata": {},
   "outputs": [],
   "source": [
    "path = find('CompanyUrls.xlsx', 'C://')\n",
    "urls = pd.read_excel(path)"
   ]
  },
  {
   "cell_type": "code",
   "execution_count": 5,
   "metadata": {},
   "outputs": [],
   "source": [
    "transactions = transactions.reset_index(drop=True)"
   ]
  },
  {
   "cell_type": "markdown",
   "metadata": {},
   "source": [
    "Count number of deals"
   ]
  },
  {
   "cell_type": "code",
   "execution_count": 6,
   "metadata": {},
   "outputs": [
    {
     "name": "stdout",
     "output_type": "stream",
     "text": [
      "Between 1-1-2010 and 31-12-2017, 708 M&As were completed in Hospital and Medical Service Plans and Accident and Health Insurance\n",
      "These deals involved 658 targets and 453 acquirors\n"
     ]
    }
   ],
   "source": [
    "print('Between 1-1-2010 and 31-12-2017, ' + str(transactions.shape[0]) + ' M&As were completed in Hospital and Medical Service Plans and Accident and Health Insurance')\n",
    "print('These deals involved '+ str(transactions['Target Name'].nunique()) + ' targets and ' + str(transactions['Acquiror Name'].nunique())\n",
    "    + ' acquirors')"
   ]
  },
  {
   "cell_type": "markdown",
   "metadata": {},
   "source": [
    "Find for each transaction the corresponding URLs and dates from which the data collection was started before/after the deal"
   ]
  },
  {
   "cell_type": "code",
   "execution_count": 7,
   "metadata": {},
   "outputs": [],
   "source": [
    "url_data = pd.DataFrame()\n",
    "for index, row in transactions.iterrows():\n",
    "    target = row['Target Name']\n",
    "    acquiror = row['Acquiror Name']\n",
    "    date = row['Date Effective'].strftime('%Y-%m-%d')\n",
    "    corresponding_url = urls[(urls['Target Name']==target)&(urls['Acquiror Name']==acquiror)&(urls['Date Effective']==date)]\n",
    "    if corresponding_url.shape[0]>1: \n",
    "        corresponding_url=corresponding_url.iloc[0]\n",
    "    url_data = url_data.append(corresponding_url)    "
   ]
  },
  {
   "cell_type": "code",
   "execution_count": 8,
   "metadata": {},
   "outputs": [],
   "source": [
    "transactions = transactions.reset_index(drop=True)\n",
    "url_data = url_data.reset_index(drop=True)"
   ]
  },
  {
   "cell_type": "code",
   "execution_count": 9,
   "metadata": {},
   "outputs": [],
   "source": [
    "url_data = url_data.drop(['Target Name', 'Acquiror Name', 'Date Effective'], axis=1)"
   ]
  },
  {
   "cell_type": "markdown",
   "metadata": {},
   "source": [
    "Concatenate the two dataframes"
   ]
  },
  {
   "cell_type": "code",
   "execution_count": 10,
   "metadata": {},
   "outputs": [],
   "source": [
    "trans_url= pd.concat([transactions, url_data], axis=1)"
   ]
  },
  {
   "cell_type": "code",
   "execution_count": 11,
   "metadata": {},
   "outputs": [],
   "source": [
    "for index, row in trans_url.iterrows():\n",
    "    if (row['Target URL']=='None'):\n",
    "        trans_url.at[index, 'Target URL'] = None\n",
    "    if (row['Acquiror URL']=='None'):\n",
    "        trans_url.at[index, 'Acquiror URL'] = None"
   ]
  },
  {
   "cell_type": "code",
   "execution_count": 12,
   "metadata": {},
   "outputs": [
    {
     "name": "stdout",
     "output_type": "stream",
     "text": [
      "557 Target URLs were found. 515 of those were unique.\n",
      "584 Acquiror URLs were found. 379 of those were unique.\n"
     ]
    }
   ],
   "source": [
    "print(str(trans_url['Target URL'].count()) + ' Target URLs were found. '+ str(trans_url['Target URL'].nunique()) + ' of those were unique.')\n",
    "print(str(trans_url['Acquiror URL'].count()) + ' Acquiror URLs were found. ' + str(trans_url['Acquiror URL'].nunique()) + ' of those were unique.')\n"
   ]
  },
  {
   "cell_type": "markdown",
   "metadata": {},
   "source": [
    "Save the dataframe"
   ]
  },
  {
   "cell_type": "code",
   "execution_count": 13,
   "metadata": {},
   "outputs": [],
   "source": [
    "trans_url.to_excel('C:/TransAndUrl.xlsx')"
   ]
  }
 ],
 "metadata": {
  "kernelspec": {
   "display_name": "Python 3",
   "language": "python",
   "name": "python3"
  },
  "language_info": {
   "codemirror_mode": {
    "name": "ipython",
    "version": 3
   },
   "file_extension": ".py",
   "mimetype": "text/x-python",
   "name": "python",
   "nbconvert_exporter": "python",
   "pygments_lexer": "ipython3",
   "version": "3.7.1"
  }
 },
 "nbformat": 4,
 "nbformat_minor": 2
}
