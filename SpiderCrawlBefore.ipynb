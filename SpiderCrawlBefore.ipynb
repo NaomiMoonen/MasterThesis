{
 "cells": [
  {
   "cell_type": "code",
   "execution_count": null,
   "metadata": {},
   "outputs": [],
   "source": [
    "from twisted.internet import reactor\n",
    "from twisted.internet.defer import inlineCallbacks\n",
    "from twisted.internet import reactor, defer\n",
    "from scrapy.crawler import CrawlerProcess\n",
    "from scrapy.utils.project import get_project_settings\n",
    "from multiprocessing import Process, Queue\n",
    "import logging\n",
    "import scrapydo\n",
    "from scrapy import Request\n",
    "from scrapy.linkextractors import LinkExtractor\n",
    "from scrapy.utils.log import configure_logging\n",
    "\n",
    "\n",
    "\n",
    "def find(name, path):\n",
    "    for root, dirs, files in os.walk(path):\n",
    "        if name in files:\n",
    "            return os.path.join(root, name)\n",
    "        \n",
    "urls = list()\n",
    "path = find('URLSBefore.txt', 'C:/')\n",
    "\n",
    "with open(path, 'r') as f:\n",
    "    for url in f.readlines():\n",
    "        url=url.rstrip('\\\\n')\n",
    "        urls.append(url)\n",
    "        \n",
    "import os\n",
    "os.chdir('C:/waybackmachine/waybackmachine/spiders')\n",
    "\n",
    "configure_logging()\n",
    "runner = CrawlerProcess(get_project_settings())\n",
    "@defer.inlineCallbacks\n",
    "def crawl(urls):\n",
    "    for url in urls:\n",
    "        yield runner.crawl('basic', start_urls=url)\n",
    "    reactor.stop()\n",
    "crawl(urls)\n",
    "reactor.run() "
   ]
  }
 ],
 "metadata": {
  "kernelspec": {
   "display_name": "Python 3",
   "language": "python",
   "name": "python3"
  },
  "language_info": {
   "codemirror_mode": {
    "name": "ipython",
    "version": 3
   },
   "file_extension": ".py",
   "mimetype": "text/x-python",
   "name": "python",
   "nbconvert_exporter": "python",
   "pygments_lexer": "ipython3",
   "version": "3.7.1"
  }
 },
 "nbformat": 4,
 "nbformat_minor": 2
}
