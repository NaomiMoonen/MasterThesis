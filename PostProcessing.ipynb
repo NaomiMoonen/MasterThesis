{
 "cells": [
  {
   "cell_type": "code",
   "execution_count": 1,
   "metadata": {},
   "outputs": [],
   "source": [
    "import os\n",
    "import numpy as np\n",
    "import pandas as pd\n",
    "import nltk\n",
    "from nltk.util import ngrams\n",
    "from nltk.tokenize.treebank import TreebankWordDetokenizer, TreebankWordTokenizer\n",
    "import spacy\n",
    "import matplotlib.pyplot as plt\n",
    "import tqdm\n",
    "from datetime import datetime  \n",
    "from datetime import timedelta\n",
    "import statistics"
   ]
  },
  {
   "cell_type": "markdown",
   "metadata": {},
   "source": [
    "Import the cleaned data."
   ]
  },
  {
   "cell_type": "code",
   "execution_count": 2,
   "metadata": {},
   "outputs": [],
   "source": [
    "def find(name, path):\n",
    "    for root, dirs, files in os.walk(path):\n",
    "        if name in files:\n",
    "            return os.path.join(root, name)"
   ]
  },
  {
   "cell_type": "code",
   "execution_count": 45,
   "metadata": {},
   "outputs": [],
   "source": [
    "path = find('ProcessedCleanedScraper.xlsx','C://')\n",
    "data = pd.read_excel(path)"
   ]
  },
  {
   "cell_type": "markdown",
   "metadata": {},
   "source": [
    "Create columns for metadata on the industries, nation, number of documents of the company and the dates."
   ]
  },
  {
   "cell_type": "code",
   "execution_count": 46,
   "metadata": {},
   "outputs": [],
   "source": [
    "data['SIC'] = \"\"\n",
    "data['Deal Date'] = \"\"\n",
    "data['Document Date'] = \"\"\n",
    "data['Macro Industry'] = \"\"\n",
    "data['Mid Industry'] = \"\"\n",
    "data['Nation'] = \"\"\n",
    "data['Doc count'] = \"\"\n"
   ]
  },
  {
   "cell_type": "markdown",
   "metadata": {},
   "source": [
    "Iterate over the cleaned data and add this metadata to each row."
   ]
  },
  {
   "cell_type": "code",
   "execution_count": 47,
   "metadata": {},
   "outputs": [],
   "source": [
    "for index, row in data.iterrows():\n",
    "    data.at[index, 'Deal Date'] = str(data.iloc[index]['Date Effective'])[0:4] + '-' + str(data.iloc[index]['Date Effective'])[4:6] +'-'+str(data.iloc[index]['Date Effective'])[6:8]\n",
    "    data.at[index, 'Document Date'] = str(data.iloc[index]['companydate'][-8:-4]) +'-'+ str(data.iloc[index]['companydate'][-4:-2])+'-'+str(data.iloc[index]['companydate'][-2::])\n",
    "    comptype =data.iloc[index]['companytype']\n",
    "    if comptype == 'Target':\n",
    "        sic = data.iloc[index]['Target Primary SIC Code']\n",
    "        macro = data.iloc[index]['Target Macro Industry']\n",
    "        mid = data.iloc[index]['Target Mid Industry']\n",
    "        nation = data.iloc[index]['Target Nation']\n",
    "    if comptype == 'Acquiror':\n",
    "        sic = data.iloc[index]['Acquiror Primary SIC Code']\n",
    "        macro = data.iloc[index]['Acquiror Macro Industry']\n",
    "        mid = data.iloc[index]['Acquiror Mid Industry']\n",
    "        nation = data.iloc[index]['Acquiror Nation']\n",
    "    data.at[index, 'SIC'] = sic\n",
    "    data.at[index, 'Macro Industry'] = macro\n",
    "    data.at[index, 'Mid Industry'] = mid\n",
    "    data.at[index, 'Nation'] = nation\n",
    "    "
   ]
  },
  {
   "cell_type": "markdown",
   "metadata": {},
   "source": [
    "Count the number of documents for a company and add this to the metadata."
   ]
  },
  {
   "cell_type": "code",
   "execution_count": 48,
   "metadata": {},
   "outputs": [],
   "source": [
    "for value in data['companydate'].unique():\n",
    "    datasubset = data[data['companydate']==value]\n",
    "    counter = datasubset.shape[0]\n",
    "    indices = datasubset.index\n",
    "    for index in indices:\n",
    "        data.at[index, 'Doc count'] = int(counter)"
   ]
  },
  {
   "cell_type": "markdown",
   "metadata": {},
   "source": [
    "Check if the crawled URLs satisfies one of these conditions. If that is the case, add the index of the instance to a list that contains indices which are subsequently dropped."
   ]
  },
  {
   "cell_type": "code",
   "execution_count": 49,
   "metadata": {},
   "outputs": [],
   "source": [
    "indices = list()\n",
    "for index, rows in data.iterrows():\n",
    "    site = data.iloc[index]['crawlurl'].lower()\n",
    "    if ('about' in site) and ('us' in site):\n",
    "        indices.append(index)\n",
    "    if ('privacy') in site:\n",
    "        indices.append(index)\n",
    "    if ('career' in site):\n",
    "        indices.append(index)\n",
    "    if ('terms' in site):\n",
    "        indices.append(index)\n",
    "    if ('team' in site):\n",
    "        indices.append(index)\n",
    "    if ('relations' in site):\n",
    "        indices.append(index)\n",
    "    if ('director' in site):\n",
    "        indices.append(index)\n",
    "    if ('executive' in site):\n",
    "        indices.append(index)\n",
    "    if ('sitemap' in site):\n",
    "        indices.append(index)\n",
    "    if ('team' in site):\n",
    "        indices.append(index)\n",
    "    if('our' in site) and ('people' in site):\n",
    "        indices.append(index)\n",
    "    if('our' in site) and ('company' in site):\n",
    "        indices.append(index)\n",
    "    if('news' in site):\n",
    "        indices.append(index)\n",
    "    if ('contact' in site) and ('us' in site):\n",
    "        indices.append(index)\n",
    "    if ('article' in site):\n",
    "        indices.append(index)\n",
    "    if ('blog' in site):\n",
    "        indices.append(index)\n",
    "    if ('video' in site):\n",
    "        indices.append(index)\n",
    "    if ('investor' in site):\n",
    "        indices.append(index)\n",
    "    if ('job' in site):\n",
    "        indices.append(index)\n",
    "    if ('disclaimer' in site):\n",
    "        indices.append(index)\n",
    "    if ('legal' in site):\n",
    "        indices.append(index)\n",
    "    if ('partners' in site):\n",
    "        indices.append(index)\n",
    "        "
   ]
  },
  {
   "cell_type": "code",
   "execution_count": 50,
   "metadata": {},
   "outputs": [],
   "source": [
    "data = data.drop(index=indices)"
   ]
  },
  {
   "cell_type": "markdown",
   "metadata": {},
   "source": [
    "Reset the indices after dropping the invalid instances."
   ]
  },
  {
   "cell_type": "code",
   "execution_count": 51,
   "metadata": {},
   "outputs": [],
   "source": [
    "data = data.reset_index(drop=True)"
   ]
  },
  {
   "cell_type": "markdown",
   "metadata": {},
   "source": [
    "Import the stop words."
   ]
  },
  {
   "cell_type": "code",
   "execution_count": 86,
   "metadata": {},
   "outputs": [],
   "source": [
    "stopwords = nltk.corpus.stopwords.words('english')\n",
    "newstopwords = pd.read_csv('customstopwords.csv')\n",
    "newstopwords = list(newstopwords['words'])\n",
    "stopwords.extend(newstopwords)"
   ]
  },
  {
   "cell_type": "markdown",
   "metadata": {},
   "source": [
    "Function that returns bigrams and trigrams of the unigrams in a sentence if the unigrams are not stopwords."
   ]
  },
  {
   "cell_type": "code",
   "execution_count": 87,
   "metadata": {},
   "outputs": [],
   "source": [
    "def word_grams(words, min=1, max=4):\n",
    "    s = []\n",
    "    words = TreebankWordTokenizer().tokenize(words)\n",
    "    for n in range(min, max):\n",
    "        for ngram in ngrams(words, n):\n",
    "            stopword = False\n",
    "            unique_words = []\n",
    "            all_unique = True\n",
    "            for word in ngram:\n",
    "                if word not in unique_words:\n",
    "                    unique_words.append(word)\n",
    "                else:\n",
    "                    all_unique=False\n",
    "            if all_unique == True:\n",
    "                if word in stopwords:\n",
    "                    stopword = True\n",
    "                if stopword == False:\n",
    "                    s.append('_'.join(str(i) for i in ngram))\n",
    "    s = TreebankWordDetokenizer().detokenize(s)\n",
    "                \n",
    "    return s"
   ]
  },
  {
   "cell_type": "markdown",
   "metadata": {},
   "source": [
    "Add the text with bigrams and trigrams to a column called \"Tokenized_texts\""
   ]
  },
  {
   "cell_type": "code",
   "execution_count": 88,
   "metadata": {},
   "outputs": [],
   "source": [
    "data['Tokenized_texts'] = \"\""
   ]
  },
  {
   "cell_type": "code",
   "execution_count": 89,
   "metadata": {
    "scrolled": true
   },
   "outputs": [],
   "source": [
    "indices = list()\n",
    "for index, row in data.iterrows():\n",
    "    text = data.iloc[index]['clean_text']\n",
    "    if type(text) ==str:\n",
    "        new_text = word_grams(text)\n",
    "        if len(new_text)!=0 and (' ' in new_text):\n",
    "            data.at[index, 'Tokenized_texts'] = new_text\n",
    "        else:\n",
    "            indices.append(index)\n",
    "    else:\n",
    "        indices.append(index)"
   ]
  },
  {
   "cell_type": "code",
   "execution_count": 91,
   "metadata": {},
   "outputs": [],
   "source": [
    "data = data.drop(index=indices)"
   ]
  },
  {
   "cell_type": "markdown",
   "metadata": {},
   "source": [
    "Add a column for the year and month in which the deal took place and the year and month of the scraping timestamp."
   ]
  },
  {
   "cell_type": "code",
   "execution_count": 115,
   "metadata": {},
   "outputs": [],
   "source": [
    "data['DealYearMonth'] = \"\"\n",
    "data['DocumentYearMonth']=\"\""
   ]
  },
  {
   "cell_type": "code",
   "execution_count": 116,
   "metadata": {},
   "outputs": [],
   "source": [
    "for index, row in data.iterrows():\n",
    "    dealyearmonth = data.iloc[index]['Deal Date'][-7:-5]+data.iloc[index]['Deal Date'][-4::]\n",
    "    documentyearmonth = data.iloc[index]['Document Date'][-7:-5] + data.iloc[index]['Document Date'][-4::]\n",
    "    data.at[index, \"DealYearMonth\"]=dealyearmonth\n",
    "    data.at[index, \"DocumentYearMonth\"]=documentyearmonth"
   ]
  },
  {
   "cell_type": "markdown",
   "metadata": {},
   "source": [
    "Format the deal date and document date to date time objects."
   ]
  },
  {
   "cell_type": "code",
   "execution_count": 108,
   "metadata": {},
   "outputs": [],
   "source": [
    "data['Deal Date'] = pd.to_datetime(data['Deal Date'], format=\"%d/%m/%Y\")\n",
    "data['Document Date'] = pd.to_datetime(data['Document Date'], format='%d/%m/%Y')"
   ]
  },
  {
   "cell_type": "markdown",
   "metadata": {},
   "source": [
    "Get sorted lists of all deal dates and document dates."
   ]
  },
  {
   "cell_type": "code",
   "execution_count": 109,
   "metadata": {},
   "outputs": [],
   "source": [
    "dealdates = list(data.sort_values(by='Deal Date')['Deal Date'])\n",
    "documentdates = list(data.sort_values(by='Document Date')['Document Date'])"
   ]
  },
  {
   "cell_type": "markdown",
   "metadata": {},
   "source": [
    "Find the earliest and latest date of deals. The earliest date gets the integer 1 associated with it. Per day, the count is incremented by 1. Each instance gets a deal date integer associated with it in this way."
   ]
  },
  {
   "cell_type": "code",
   "execution_count": 110,
   "metadata": {},
   "outputs": [
    {
     "name": "stderr",
     "output_type": "stream",
     "text": [
      "C:\\Users\\20150624\\AppData\\Local\\Continuum\\anaconda3\\lib\\site-packages\\ipykernel_launcher.py:7: FutureWarning: Comparing Series of datetimes with 'datetime.date'.  Currently, the\n",
      "'datetime.date' is coerced to a datetime. In the future pandas will\n",
      "not coerce, and 'the values will not compare equal to the\n",
      "'datetime.date'. To retain the current behavior, convert the\n",
      "'datetime.date' to a datetime with 'pd.Timestamp'.\n",
      "  import sys\n"
     ]
    }
   ],
   "source": [
    "firstdealdate = dealdates[0]\n",
    "lastdealdate = dealdates[-1]\n",
    "rangedates = lastdealdate - firstdealdate\n",
    "data['DealDateInt'] = \"\"\n",
    "for i in range(rangedates.days+1):\n",
    "    datum= (dealdates[0] + timedelta(days=i)).date()\n",
    "    subset = data[data['Deal Date']==datum]\n",
    "    subsetindices = list(subset.index)\n",
    "    for index in subsetindices:\n",
    "        data.at[index, \"DealDateInt\"] = i"
   ]
  },
  {
   "cell_type": "markdown",
   "metadata": {},
   "source": [
    "Find the earliest and latest date of the timestamps for scraping. The earliest date gets the integer 1 associated with it. Per day, the count is incremented by 1. Each instance gets a document date integer associated with it in this way."
   ]
  },
  {
   "cell_type": "code",
   "execution_count": 111,
   "metadata": {},
   "outputs": [
    {
     "name": "stderr",
     "output_type": "stream",
     "text": [
      "C:\\Users\\20150624\\AppData\\Local\\Continuum\\anaconda3\\lib\\site-packages\\ipykernel_launcher.py:7: FutureWarning: Comparing Series of datetimes with 'datetime.date'.  Currently, the\n",
      "'datetime.date' is coerced to a datetime. In the future pandas will\n",
      "not coerce, and 'the values will not compare equal to the\n",
      "'datetime.date'. To retain the current behavior, convert the\n",
      "'datetime.date' to a datetime with 'pd.Timestamp'.\n",
      "  import sys\n"
     ]
    }
   ],
   "source": [
    "firstdocdate = documentdates[0]\n",
    "lastdocdate = documentdates[-1]\n",
    "rangedates = lastdocdate - firstdocdate\n",
    "data['DocumentDateInt'] = \"\"\n",
    "for i in range(rangedates.days+1):\n",
    "    datum = (documentdates[0] + timedelta(days=i)).date()\n",
    "    subset = data[data['Document Date']==datum]\n",
    "    subsetindices = list(subset.index)\n",
    "    for index in subsetindices:\n",
    "        data.at[index, \"DocumentDateInt\"] = i"
   ]
  },
  {
   "cell_type": "markdown",
   "metadata": {},
   "source": [
    "Add an \"A\" to the healthcare industry to make it first in alphabetical lists."
   ]
  },
  {
   "cell_type": "code",
   "execution_count": 112,
   "metadata": {},
   "outputs": [],
   "source": [
    "data['Macro Industry'] = data['Macro Industry'].replace(regex=\"Healthcare\", value=\"AHealthcare\")"
   ]
  },
  {
   "cell_type": "markdown",
   "metadata": {},
   "source": [
    "Create the deal year and document year by only keeping the year and getting rid of the month."
   ]
  },
  {
   "cell_type": "code",
   "execution_count": 13,
   "metadata": {},
   "outputs": [],
   "source": [
    "data['DealYear'] = \"\"\n",
    "data['DocumentYear'] = \"\"\n",
    "for index, row in data.iterrows():\n",
    "    dealyearmonth = str(data.iloc[index]['DealYearMonth'])\n",
    "    data.at[index, 'DealYear'] = dealyearmonth[-4:]\n",
    "    documentyearmonth = str(data.iloc[index]['DocumentYearMonth'])\n",
    "    data.at[index, 'DocumentYear'] = documentyearmonth[-4:]\n"
   ]
  },
  {
   "cell_type": "markdown",
   "metadata": {},
   "source": [
    "Save the cleaned data with metadata."
   ]
  },
  {
   "cell_type": "code",
   "execution_count": 16,
   "metadata": {},
   "outputs": [],
   "source": [
    "data.to_csv('TokenizedAllScraper.csv')"
   ]
  },
  {
   "cell_type": "markdown",
   "metadata": {},
   "source": [
    "Compute the average and median number of documents per company."
   ]
  },
  {
   "cell_type": "code",
   "execution_count": 16,
   "metadata": {},
   "outputs": [],
   "source": [
    "keepunique = data.drop_duplicates(['Target Name', 'Acquiror Name'])"
   ]
  },
  {
   "cell_type": "code",
   "execution_count": 22,
   "metadata": {},
   "outputs": [
    {
     "data": {
      "text/plain": [
       "80.32336448598132"
      ]
     },
     "execution_count": 22,
     "metadata": {},
     "output_type": "execute_result"
    }
   ],
   "source": [
    "sum(list(keepunique['Doc count']))/len(list(keepunique['Doc count']))"
   ]
  },
  {
   "cell_type": "code",
   "execution_count": 25,
   "metadata": {},
   "outputs": [
    {
     "data": {
      "text/plain": [
       "30"
      ]
     },
     "execution_count": 25,
     "metadata": {},
     "output_type": "execute_result"
    }
   ],
   "source": [
    "statistics.median(list(keepunique['Doc count']))"
   ]
  },
  {
   "cell_type": "markdown",
   "metadata": {},
   "source": [
    "Get the number of documents per company+timestamp combination."
   ]
  },
  {
   "cell_type": "code",
   "execution_count": 37,
   "metadata": {},
   "outputs": [],
   "source": [
    "companydates = set(list(data['companydate'].values))\n",
    "lengths = list()\n",
    "for companydate in companydates:\n",
    "    lengths.append(data[data['companydate']==companydate].shape[0])"
   ]
  },
  {
   "cell_type": "code",
   "execution_count": 44,
   "metadata": {},
   "outputs": [],
   "source": [
    "sublength = [i for i in lengths if i<51]"
   ]
  },
  {
   "cell_type": "markdown",
   "metadata": {},
   "source": [
    "Plot the number of documents per company+timestamp combination."
   ]
  },
  {
   "cell_type": "code",
   "execution_count": 46,
   "metadata": {},
   "outputs": [
    {
     "data": {
      "text/plain": [
       "(array([874., 214.,  97.,  53.,  42.,  33.,  11.,  10.,   4.,   3.]),\n",
       " array([  1. ,  36.7,  72.4, 108.1, 143.8, 179.5, 215.2, 250.9, 286.6,\n",
       "        322.3, 358. ]),\n",
       " <a list of 10 Patch objects>)"
      ]
     },
     "execution_count": 46,
     "metadata": {},
     "output_type": "execute_result"
    },
    {
     "data": {
      "image/png": "[encoded data removed]",
      "text/plain": [
       "<Figure size 720x360 with 1 Axes>"
      ]
     },
     "metadata": {
      "needs_background": "light"
     },
     "output_type": "display_data"
    }
   ],
   "source": [
    "plt.figure(figsize=(10,5))\n",
    "plt.xticks(fontname=\"century\", fontsize=14)\n",
    "plt.yticks(fontname=\"century\", fontsize=14)\n",
    "plt.hist(lengths, color=\"gray\")"
   ]
  },
  {
   "cell_type": "markdown",
   "metadata": {},
   "source": [
    "Plot the number of documents per company+timestamp combination for instances with at most 50 documents."
   ]
  },
  {
   "cell_type": "code",
   "execution_count": 45,
   "metadata": {},
   "outputs": [
    {
     "data": {
      "text/plain": [
       "(array([481.,  90.,  74.,  50.,  70.,  66.,  37.,  36.,  39.,  33.]),\n",
       " array([ 1. ,  5.9, 10.8, 15.7, 20.6, 25.5, 30.4, 35.3, 40.2, 45.1, 50. ]),\n",
       " <a list of 10 Patch objects>)"
      ]
     },
     "execution_count": 45,
     "metadata": {},
     "output_type": "execute_result"
    },
    {
     "data": {
      "image/png": "[encoded data removed]",
      "text/plain": [
       "<Figure size 720x360 with 1 Axes>"
      ]
     },
     "metadata": {
      "needs_background": "light"
     },
     "output_type": "display_data"
    }
   ],
   "source": [
    "plt.figure(figsize=(10,5))\n",
    "plt.xticks(fontname=\"century\", fontsize=14)\n",
    "plt.yticks(fontname=\"century\", fontsize=14)\n",
    "plt.hist(sublength, color=\"black\")"
   ]
  }
 ],
 "metadata": {
  "kernelspec": {
   "display_name": "Python 3",
   "language": "python",
   "name": "python3"
  },
  "language_info": {
   "codemirror_mode": {
    "name": "ipython",
    "version": 3
   },
   "file_extension": ".py",
   "mimetype": "text/x-python",
   "name": "python",
   "nbconvert_exporter": "python",
   "pygments_lexer": "ipython3",
   "version": "3.7.1"
  }
 },
 "nbformat": 4,
 "nbformat_minor": 2
}
